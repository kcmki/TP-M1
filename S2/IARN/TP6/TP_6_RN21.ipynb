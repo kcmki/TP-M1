{
 "cells": [
  {
   "attachments": {},
   "cell_type": "markdown",
   "metadata": {},
   "source": [
    "# TP 6 Réseaux de neurones - Multi classification et Propagation en arrière\n",
    "Dans ce TP, nous aimerions entrainer un réseau de neurones pour la tâche de classification en utilisant l'algorithme d propagation en arrière (backpropagation).\n",
    "\n",
    "L'ensemble de données que nous allons utiliser est le même que celui utilisé durant le TP1, i.e. les images de chiffres manuscrits.\n"
   ]
  },
  {
   "attachments": {},
   "cell_type": "markdown",
   "metadata": {},
   "source": [
    "# Importation des librairies necessaires au travail"
   ]
  },
  {
   "cell_type": "code",
   "execution_count": 201,
   "metadata": {},
   "outputs": [],
   "source": [
    "import numpy as np\n",
    "import matplotlib.pyplot as plt\n",
    "from numpy import random\n",
    "import cv2 "
   ]
  },
  {
   "attachments": {},
   "cell_type": "markdown",
   "metadata": {},
   "source": [
    "# Lecture des fichiers de données\n",
    "Pour ce TP, nous allons lire les données à partir d'un fichier csv."
   ]
  },
  {
   "cell_type": "code",
   "execution_count": 202,
   "metadata": {},
   "outputs": [
    {
     "data": {
      "text/plain": [
       "(5000, 401)"
      ]
     },
     "execution_count": 202,
     "metadata": {},
     "output_type": "execute_result"
    }
   ],
   "source": [
    "# données\n",
    "data = np.genfromtxt('data_2.csv', delimiter=',', dtype=float)\n",
    "data.shape"
   ]
  },
  {
   "attachments": {},
   "cell_type": "markdown",
   "metadata": {},
   "source": [
    "Dans ces données (data), les 400 premières colonnes representent les pixels de l'image (20x20), la dernière colonne represente la classe de l'image (chiffres de 0 à 9). (http://yann.lecun.com/exdb/mnist/)\n",
    "\n",
    "Chaque ligne represente un exemple de notre ensemble de données. \n",
    "\n",
    "Mettons ces données dans leus vecteurs correspondants."
   ]
  },
  {
   "cell_type": "code",
   "execution_count": 217,
   "metadata": {},
   "outputs": [],
   "source": [
    "# rajoutons l'ordonnée à l'origine theta 0\n",
    "intercept=np.ones((data.shape[0],1))\n",
    "X=np.column_stack((intercept,data[:,:-1]))\n",
    "y=data[:,-1]\n",
    "# forcer y à avoir une seule colonne\n",
    "y = y.reshape( y.shape[0], 1)"
   ]
  },
  {
   "cell_type": "code",
   "execution_count": 204,
   "metadata": {},
   "outputs": [
    {
     "name": "stdout",
     "output_type": "stream",
     "text": [
      "X (5000, 401)  y  (5000, 1)\n"
     ]
    }
   ],
   "source": [
    "print('X', X.shape ,' y ', y.shape)"
   ]
  },
  {
   "attachments": {},
   "cell_type": "markdown",
   "metadata": {},
   "source": [
    "Visualisation aléatoire de quelques données"
   ]
  },
  {
   "cell_type": "code",
   "execution_count": 205,
   "metadata": {},
   "outputs": [
    {
     "data": {
      "image/png": "[encoded data removed]",
      "text/plain": [
       "<Figure size 1500x800 with 13 Axes>"
      ]
     },
     "metadata": {},
     "output_type": "display_data"
    }
   ],
   "source": [
    "plt.figure(figsize=(15,8))\n",
    "for i in range(13):\n",
    "    c = random.randint(X.shape[0])\n",
    "    a = X[c,1:].reshape((20, 20))\n",
    "    a=np.transpose(a)\n",
    "    plt.subplot(1,13,i+1)\n",
    "    plt.title('label '+ str(y[c]))\n",
    "    plt.imshow(a,cmap='gray')"
   ]
  },
  {
   "attachments": {},
   "cell_type": "markdown",
   "metadata": {},
   "source": [
    "Transformer y de tel sorte à avoir un vecteur pour chaque exemple\n",
    "\n",
    "Equivalent de tocategorical"
   ]
  },
  {
   "cell_type": "code",
   "execution_count": 218,
   "metadata": {},
   "outputs": [
    {
     "data": {
      "text/plain": [
       "(5000, 10)"
      ]
     },
     "execution_count": 218,
     "metadata": {},
     "output_type": "execute_result"
    }
   ],
   "source": [
    "YY=np.zeros((y.shape[0], int(np.max(y))+1))\n",
    "YY.shape"
   ]
  },
  {
   "cell_type": "code",
   "execution_count": 219,
   "metadata": {},
   "outputs": [],
   "source": [
    "for i in range (YY.shape[0]):\n",
    "    YY[i,int(y[i])]=1"
   ]
  },
  {
   "attachments": {},
   "cell_type": "markdown",
   "metadata": {},
   "source": [
    "# Réseaux de neurones\n",
    "Pour cette partie, nous choisissons une réseau simple:\n",
    "\n",
    "- une couche d'entrée avec 400 noeuds (20 x 20 pixels) + le biais\n",
    "- une couche cachée avec 25 noeuds\n",
    "- une couche de sortie avec 10 noeuds (nombre de classes)"
   ]
  },
  {
   "cell_type": "code",
   "execution_count": 220,
   "metadata": {},
   "outputs": [
    {
     "data": {
      "text/plain": [
       "(25, 401)"
      ]
     },
     "execution_count": 220,
     "metadata": {},
     "output_type": "execute_result"
    }
   ],
   "source": [
    "# poids de la couche 1\n",
    "W1 = np.genfromtxt('W1.csv', delimiter=',', dtype=float)\n",
    "W1.shape\n"
   ]
  },
  {
   "cell_type": "code",
   "execution_count": 221,
   "metadata": {},
   "outputs": [
    {
     "data": {
      "text/plain": [
       "(10, 26)"
      ]
     },
     "execution_count": 221,
     "metadata": {},
     "output_type": "execute_result"
    }
   ],
   "source": [
    "# poids de la couche 2\n",
    "W2 = np.genfromtxt('W2.csv', delimiter=',', dtype=float)\n",
    "W2.shape"
   ]
  },
  {
   "cell_type": "code",
   "execution_count": 222,
   "metadata": {},
   "outputs": [],
   "source": [
    "input_layer_size  = 400\n",
    "hidden_layer_size = 25   \n",
    "num_labels = 10"
   ]
  },
  {
   "attachments": {},
   "cell_type": "markdown",
   "metadata": {},
   "source": [
    "# Calcul du coût"
   ]
  },
  {
   "attachments": {},
   "cell_type": "markdown",
   "metadata": {},
   "source": [
    "# TODO  1 calcul du coût\n",
    "**Tâche 1**: Modifier la fonction computeCost afin d'obtenir un coût avec régularisation\n",
    "\n",
    "Rappelons que le coût avec régularisation est calculé comme suit:\n",
    "\n",
    "$ J(\\theta)= \\frac{1}{m} \\sum_{i=1}^m\\sum_{k=1}^K \\left[ -y_k^{(i)} \\log (h_\\theta(x^{(i)}) )_k - (1-y_k^{(i)}) \\log (1-h_\\theta(x^{(i)}) )_k \\right] + \\frac{\\lambda}{2m} \\left[ \\sum_{j=1}^{25}\\sum_{k=1}^{400} \\left( \\theta_{j,k}^{(1)} \\right)^2 +   \\sum_{j=1}^{10}\\sum_{k=1}^{25} \\left( \\theta_{j,k}^{(2)} \\right)^2 \\right] $"
   ]
  },
  {
   "cell_type": "code",
   "execution_count": 252,
   "metadata": {},
   "outputs": [],
   "source": [
    "def Sigmoid(z):\n",
    "    # pour une valeur donnée, cette fonction calculera sa sigmoid\n",
    "    return 1/(1+np.exp(-z))\n",
    "def SigmoidGrad(z):\n",
    "    \"\"\"\n",
    "    Computes the gradient of the sigmoid function of the input.\n",
    "    \"\"\"\n",
    "    return Sigmoid(z) * (1 - Sigmoid(z))"
   ]
  },
  {
   "cell_type": "code",
   "execution_count": 253,
   "metadata": {},
   "outputs": [],
   "source": [
    "def computeCost(X, YY, theta1, theta2,hidden_layer_size, lambda_):\n",
    "    a1=X; \n",
    "\n",
    "    z2= np.zeros((X.shape[0],hidden_layer_size))\n",
    "    a2= np.zeros((X.shape[0],hidden_layer_size)) \n",
    "\n",
    "    intercept=np.ones((X.shape[0],1))\n",
    "    z2=np.column_stack((intercept,np.dot(a1,np.transpose(theta1))))\n",
    "    a2=Sigmoid(z2)\n",
    "    a2[:,0]=1\n",
    "\n",
    "    z3= np.zeros((YY.shape[0],YY.shape[1]))    \n",
    "    a3= np.zeros((YY.shape[0],YY.shape[1]))  \n",
    "\n",
    "    z3=np.dot(a2,np.transpose(theta2))\n",
    "    a3=Sigmoid(z3)\n",
    "\n",
    "    J= (1/X.shape[0])*(np.sum(np.sum((np.multiply(-YY,np.log(a3))-(np.multiply((1-YY),np.log(1-a3))))))) + (lambda_ /  (2 * X.shape[0] )) * (np.sum(np.sum(np.power(theta1[:,1:],2))) + np.sum(np.sum(np.power(theta2[:,1:],2))))\n",
    "\n",
    "    return J"
   ]
  },
  {
   "attachments": {},
   "cell_type": "markdown",
   "metadata": {},
   "source": [
    "# TODO  2 calcul du gradient\n",
    "**Tâche 2**: Implémenter la fonction NNCostFunction afin de retourner:\n",
    "\n",
    "- Le coût avec régularisation\n",
    "- Le gardient du coût par rapport à chaqu'un des paramètres du réseau\n",
    "\n",
    "Rappelons le gradient de la sigmoid:\n",
    "\n",
    "$ sigmoid(z) =\\sigma(z)= \\frac{1}{1-e^{-z}}$\n",
    "\n",
    "$ \\sigma(z)^\\prime = \\sigma(z)(1-\\sigma(z)) =a(1-a)$ tel que $a$ est l'activation d'une couche donnée\n",
    "\n",
    "L'algorithme à implementer est comme suit:\n",
    "\n",
    "Pour chaque exemple de l'ensemble d'apprentissage faire\n",
    "\n",
    "Pour chaque noeud de la couche de sortie, calculer la dérivée (gradient):\n",
    "\n",
    "$\\delta_k^{(3)} = \\left( a_k^{(3)}- y_k \\right)  $\n",
    "\n",
    "Pour chaque noeud de la couche caché calculer la dérivée (gradient):\n",
    "\n",
    "$\\delta^{(2)} =  \\left(\\Theta^{(2)}\\right)^T \\delta^{(3)} \\quad .* \\quad \\sigma^\\prime\\left(z^{(2)} \\right) $\n",
    "\n",
    "Notons que l'opérateur $.*$ represente la multiplication élement par élement et non pas la multiplication matricielle\n",
    "\n",
    "Le gradient de chaque noeud et de chaque couche sera finalement:\n",
    "\n",
    "$\\Delta^{(l)} =  \\Delta^{(l)} + \\delta^{(l)} * \\left( a^{(l)} \\right)^T $\n",
    "\n",
    "Fin pour\n",
    "\n",
    "Fin pour\n",
    "\n",
    "Diviser le gradient cumulé par le nombre d'exemples:\n",
    "\n",
    "$ \\frac{\\partial J(\\Theta)} { \\partial \\Theta_{i,j)}^{(l)}} = \\frac{1}{m} \\Delta_{i,j)}^{(l)}$\n"
   ]
  },
  {
   "cell_type": "code",
   "execution_count": 283,
   "metadata": {},
   "outputs": [
    {
     "data": {
      "text/plain": [
       "(array([[-2.69706191e-02,  0.00000000e+00,  0.00000000e+00, ...,\n",
       "          2.84230444e-06, -2.05594105e-07,  0.00000000e+00],\n",
       "        [-1.79860981e-02,  0.00000000e+00,  0.00000000e+00, ...,\n",
       "         -3.48251501e-06,  3.14347762e-07,  0.00000000e+00],\n",
       "        [-4.83743871e-02,  0.00000000e+00,  0.00000000e+00, ...,\n",
       "          3.29269313e-06, -3.71429695e-07,  0.00000000e+00],\n",
       "        ...,\n",
       "        [-2.49079461e-02,  0.00000000e+00,  0.00000000e+00, ...,\n",
       "          2.27448618e-06, -2.29377362e-07,  0.00000000e+00],\n",
       "        [-3.37261294e-02,  0.00000000e+00,  0.00000000e+00, ...,\n",
       "         -4.51776799e-06,  2.93499569e-07,  0.00000000e+00],\n",
       "        [-2.32520230e-02,  0.00000000e+00,  0.00000000e+00, ...,\n",
       "          1.23440576e-06, -1.38239075e-07,  0.00000000e+00]]),\n",
       " array([[ 0.00062991,  0.02243452,  0.01267309, -0.08072169, -0.02203329,\n",
       "         -0.06198226, -0.01329367,  0.0598549 ,  0.07512287, -0.01108684,\n",
       "          0.01200474,  0.05552667,  0.04770197,  0.06994465,  0.08059978,\n",
       "          0.0769577 , -0.01036173, -0.07987834,  0.06959054, -0.06797815,\n",
       "         -0.07932313,  0.07325974,  0.00026497, -0.07741578, -0.02003843,\n",
       "          0.01547418],\n",
       "        [ 0.00036632,  0.03141839, -0.01428926,  0.06661261,  0.0288152 ,\n",
       "          0.07228067,  0.00072188, -0.02690057, -0.06669476, -0.01673757,\n",
       "         -0.01096486, -0.0606238 , -0.02633759,  0.00373247, -0.01786585,\n",
       "         -0.04843013, -0.03618066,  0.00386641, -0.03878457,  0.01574916,\n",
       "          0.00878451,  0.00361122,  0.00535562,  0.07479027, -0.03563293,\n",
       "          0.04699602],\n",
       "        [ 0.00039511, -0.05123991,  0.07540704, -0.06359845, -0.0033451 ,\n",
       "         -0.00485039,  0.0103613 , -0.03377837, -0.00632317,  0.02503632,\n",
       "          0.04066613,  0.00760462,  0.04797682, -0.04326553,  0.00969335,\n",
       "         -0.02489313, -0.00270917,  0.06009933,  0.04297792, -0.00116425,\n",
       "         -0.003298  , -0.01898322, -0.00721654, -0.02631027,  0.05653745,\n",
       "         -0.03399562],\n",
       "        [ 0.00044146,  0.07720186, -0.05663941,  0.03651377,  0.00158799,\n",
       "         -0.008528  , -0.08372147,  0.06845356,  0.04442903, -0.07088057,\n",
       "          0.03836612,  0.0708145 ,  0.0099066 , -0.03590313, -0.04295228,\n",
       "         -0.00261663,  0.0550029 , -0.06595189, -0.05657633,  0.00976464,\n",
       "          0.05531233,  0.0185239 , -0.06272054,  0.02955695, -0.07390336,\n",
       "         -0.0339128 ],\n",
       "        [ 0.00025488, -0.0783593 ,  0.03958454,  0.02495143,  0.00534458,\n",
       "         -0.01058195,  0.07674093, -0.03619879, -0.03653848,  0.06175776,\n",
       "         -0.04789838, -0.01417566,  0.00162451,  0.01698628, -0.02308049,\n",
       "          0.00701065, -0.02812419,  0.06369317,  0.04395668,  0.0237562 ,\n",
       "         -0.04641062, -0.06596245,  0.01800729, -0.03441332,  0.0449541 ,\n",
       "          0.04014665],\n",
       "        [ 0.00056329,  0.06602724, -0.05825266,  0.01253368,  0.00377971,\n",
       "          0.02650108, -0.00885854, -0.02490496,  0.06535483, -0.0592976 ,\n",
       "         -0.03258842,  0.00854004, -0.00262056,  0.06365743,  0.00280516,\n",
       "         -0.00702768,  0.03540594, -0.06372825, -0.06370565,  0.00028216,\n",
       "          0.00636205, -0.0010575 ,  0.04176903,  0.02516361, -0.05022017,\n",
       "         -0.03109325],\n",
       "        [ 0.00035848,  0.01314282,  0.017391  , -0.0780642 , -0.08581572,\n",
       "         -0.05645991, -0.05913321,  0.01042691, -0.07291614,  0.07723419,\n",
       "          0.08405822, -0.03048978,  0.00280015, -0.08161249,  0.0518974 ,\n",
       "          0.07445168,  0.00477851,  0.06308492,  0.01490507, -0.0327617 ,\n",
       "          0.03849422,  0.06487406, -0.00964508,  0.00531535,  0.08026264,\n",
       "          0.04614968],\n",
       "        [ 0.00054266, -0.06890496, -0.00930199,  0.05988258,  0.08026261,\n",
       "          0.04183613,  0.07652832, -0.01192718,  0.00659747, -0.0014837 ,\n",
       "         -0.06301233,  0.02528074, -0.00149823,  0.0214047 , -0.0494687 ,\n",
       "         -0.05941478, -0.0633692 , -0.05651001,  0.05461082, -0.00711543,\n",
       "         -0.05467431,  0.00511438, -0.00188751, -0.01126151, -0.00811024,\n",
       "         -0.04594461],\n",
       "        [ 0.00085079,  0.05982072,  0.0374686 , -0.0454845 , -0.06436705,\n",
       "          0.00071762, -0.08056164,  0.04327867,  0.00580252, -0.00194489,\n",
       "          0.06451121,  0.00415125,  0.001196  , -0.02256648,  0.00871628,\n",
       "         -0.00967378,  0.06068796,  0.0114475 , -0.03455354,  0.02094069,\n",
       "          0.02165853,  0.00345558,  0.00598961,  0.0124765 , -0.04259102,\n",
       "         -0.00253611],\n",
       "        [ 0.00024707, -0.06872324, -0.04246943,  0.06978368,  0.05929353,\n",
       "          0.00471097,  0.08368601, -0.04626022, -0.01291404,  0.00032484,\n",
       "         -0.08256062, -0.06397893, -0.07821884,  0.00968024, -0.01860079,\n",
       "         -0.00483759, -0.01179044,  0.06740794, -0.03052873,  0.04001467,\n",
       "          0.05582209, -0.08022375,  0.01324491,  0.00552187,  0.05182016,\n",
       "          0.00126209]]))"
      ]
     },
     "execution_count": 283,
     "metadata": {},
     "output_type": "execute_result"
    }
   ],
   "source": [
    "def NNCostFunction( X, y,Theta1, Theta2, lambda_):\n",
    "    # Forward propagation\n",
    "\n",
    "    a2 = Sigmoid(np.dot(X,Theta1.T))\n",
    "    a2i = np.column_stack((np.ones((a2.shape[0],1)),a2))\n",
    "    a3 = Sigmoid(np.dot(a2i,Theta2.T))\n",
    "\n",
    "    # Backpropagation\n",
    "    sigma3 = a3 - y\n",
    "    sigma2 =np.multiply(np.dot(sigma3,Theta2),np.multiply(Sigmoid(np.column_stack((np.ones((a2.shape[0],1)),Sigmoid(np.dot(X,Theta1.T))))), 1 - Sigmoid(np.column_stack((np.ones((a2.shape[0],1)),Sigmoid(np.dot(X,Theta1.T)))))))\n",
    "    sigma2 = sigma2[:,1:]\n",
    "    Delta1 = np.dot(sigma2.T,X)\n",
    "    Delta2 = np.dot(sigma3.T,a2i)\n",
    "\n",
    "    # Compute gradients\n",
    "    Theta1_grad = Delta1 / X.shape[0]\n",
    "    Theta2_grad = Delta2 / X.shape[0]\n",
    "\n",
    "    return Theta1_grad, Theta2_grad\n",
    "\n",
    "NNCostFunction(X, YY,W1, W2,0.5)\n"
   ]
  },
  {
   "attachments": {},
   "cell_type": "markdown",
   "metadata": {},
   "source": [
    "# TODO  3 entrainement du réseau\n",
    "**Tâche 3**: Entrainer le réseau en utilisant la descente du gradient:\n",
    "Ici il faudra reprendre l'algorithme de la descente du gradient afin de mettre à jour les paramètres du réseau\n"
   ]
  },
  {
   "cell_type": "code",
   "execution_count": 295,
   "metadata": {},
   "outputs": [],
   "source": [
    "\n",
    "def gradientDescent(X, y,theta1,theta2,alpha, iterations):\n",
    "\n",
    "    for i in range(0,iterations):\n",
    "        d1,d2 = NNCostFunction(X, y, theta1,theta2, 0.8)\n",
    "\n",
    "        theta1 = theta1 - (alpha * d1)\n",
    "        theta2 = theta2 - (alpha * d2)\n",
    "\n",
    "    return theta1,theta2\n",
    "\n",
    "theta1 = np.random.uniform(low=-1, high=1, size=W1.shape)\n",
    "theta2 = np.random.uniform(low=-1, high=1, size=W2.shape)\n",
    "\n",
    "theta1,theta2 = gradientDescent(X, YY,theta1,theta2,0.25, 1000)\n"
   ]
  },
  {
   "attachments": {},
   "cell_type": "markdown",
   "metadata": {},
   "source": [
    "# TODO 4 : Régularisation\n",
    "Mettre à jour le calcul du coût en ajoutant le terme de régularisation et comparer les résultats (avec et sans régularisation)"
   ]
  },
  {
   "cell_type": "code",
   "execution_count": 282,
   "metadata": {},
   "outputs": [
    {
     "name": "stdout",
     "output_type": "stream",
     "text": [
      "precision =  0.0094\n"
     ]
    }
   ],
   "source": [
    "def sigmoidGradient(z):\n",
    "    return np.multiply(Sigmoid(z),(1-Sigmoid(z)))\n",
    "def NNCostFunctionReg(X, YY, theta1, theta2,hidden_layer_size,lambda_):\n",
    "    \n",
    "    # Forward propagation\n",
    "\n",
    "    a2 = Sigmoid(np.dot(X,theta1.T))\n",
    "    a2i = np.column_stack((np.ones((a2.shape[0],1)),a2))\n",
    "    a3 = Sigmoid(np.dot(a2i,theta2.T))\n",
    "\n",
    "    # Backpropagation\n",
    "    sigma3 = a3 - y\n",
    "    sigma2 =np.multiply(np.dot(sigma3,theta2),np.multiply(Sigmoid(np.column_stack((np.ones((a2.shape[0],1)),Sigmoid(np.dot(X,theta1.T))))), 1 - Sigmoid(np.column_stack((np.ones((a2.shape[0],1)),Sigmoid(np.dot(X,theta1.T)))))))\n",
    "    sigma2 = sigma2[:,1:]\n",
    "    Delta1 = np.dot(sigma2.T,X)\n",
    "    Delta2 = np.dot(sigma3.T,a2i)\n",
    "\n",
    "    # Compute regularized gradients\n",
    "    Theta1_grad = (Delta1  + (lambda_ * theta1[:, 1:])) / X.shape[0] \n",
    "    Theta2_grad = (Delta2  + (lambda_ * theta2[:, 1:])) / X.shape[0]\n",
    "\n",
    "    return Theta1_grad, Theta2_grad\n",
    "\n"
   ]
  },
  {
   "cell_type": "code",
   "execution_count": 289,
   "metadata": {},
   "outputs": [],
   "source": [
    "def gradientDescentReg(X, y,theta1,theta2,alpha, iterations):\n",
    "\n",
    "    for i in range(0,iterations):\n",
    "        d1,d2 = NNCostFunctionReg(X, y, theta1,theta2, 25,lambda_=0.5)\n",
    "\n",
    "        theta1 = theta1 - (alpha * d1)\n",
    "        theta2 = theta2 - (alpha * d2)\n",
    "    return theta1,theta2\n",
    "\n",
    "theta1 = np.random.uniform(low=-1, high=1, size=W1.shape)\n",
    "theta2 = np.random.uniform(low=-1, high=1, size=W2.shape)\n",
    "\n",
    "theta1,theta2 = gradientDescentReg(X, YY,theta1,theta2,0.1, 100)"
   ]
  },
  {
   "attachments": {},
   "cell_type": "markdown",
   "metadata": {},
   "source": [
    "# TODO 5 : Prédiction\n",
    "\n",
    "Appliquer une propagation en avant en utilisant les paramètres données pour prédir les classes de l'ensemble d'apprentissage.\n",
    "\n"
   ]
  },
  {
   "cell_type": "code",
   "execution_count": 290,
   "metadata": {},
   "outputs": [],
   "source": [
    "def predict (W1, W2, X):\n",
    "    \n",
    "    # appliquer une propagation en avant\n",
    "    # !--- n'oubliez pas d'appliquer la sigmoid à chaque couche afin d'avoir les probabilités ---!\n",
    "    \n",
    "    # prédire la classe en choisissant la probabilité maximale parmi les 10 noeuds de sortie\n",
    "\n",
    "    a2 = Sigmoid(np.dot(X,W1.T))\n",
    "    a2 = np.column_stack((np.ones((a2.shape[0],1)),a2))\n",
    "    a3 = Sigmoid(np.dot(a2,W2.T))\n",
    "    predict = np.argmax(a3, axis=1) + 1\n",
    "    predict[predict==10]=0\n",
    "    return predict"
   ]
  },
  {
   "cell_type": "code",
   "execution_count": 298,
   "metadata": {},
   "outputs": [
    {
     "name": "stdout",
     "output_type": "stream",
     "text": [
      "precision =  0.0102\n"
     ]
    }
   ],
   "source": [
    "# calcul de precision = nombre de valeurs bien prédites (ici sur toute la base X)\n",
    "y_pred=predict(theta1,theta2,X)\n",
    "true=0\n",
    "for i in range(0,y_pred.shape[0]):\n",
    "    if y_pred[i]==y[i]:\n",
    "        true+=1\n",
    "\n",
    "print('precision = ',true/y_pred.shape[0])"
   ]
  },
  {
   "attachments": {},
   "cell_type": "markdown",
   "metadata": {},
   "source": [
    "# optionnel 1 : Vérification de l'implementation\n",
    "Comparer vos algorithmes à ceux de scikitlearn"
   ]
  },
  {
   "cell_type": "code",
   "execution_count": 299,
   "metadata": {},
   "outputs": [
    {
     "name": "stdout",
     "output_type": "stream",
     "text": [
      "precision =  1.0\n"
     ]
    }
   ],
   "source": [
    "from sklearn.neural_network import MLPClassifier\n",
    "\n",
    "\n",
    "mlp = MLPClassifier(hidden_layer_sizes=(25), max_iter=1000)\n",
    "mlp.fit(X, y.reshape(y.shape[0],))\n",
    "y_pred = mlp.predict(X)\n",
    "\n",
    "true=0\n",
    "for i in range(0,y_pred.shape[0]):\n",
    "    if y_pred[i]==y[i]:\n",
    "        true+=1\n",
    "\n",
    "print('precision = ',true/y_pred.shape[0])"
   ]
  },
  {
   "attachments": {},
   "cell_type": "markdown",
   "metadata": {},
   "source": [
    "# Optionnel 2 : Visualisation des poids\n",
    "    \n",
    "La visualisation de poids permet de voir quel partie du réseau est activé et pour quelle classe.\n",
    "Il est possible de visulaiser les paramètres theta1 . \n",
    "Ceci peut se faire en utilisant un reshape de ces paramètres afin d'avoir 25 images de taille 20x20 (n'oubliez pas d'ignorer la premuère colonne, celle du biais)"
   ]
  },
  {
   "cell_type": "code",
   "execution_count": 296,
   "metadata": {},
   "outputs": [
    {
     "data": {
      "image/png": "[encoded data removed]",
      "text/plain": [
       "<Figure size 1500x800 with 25 Axes>"
      ]
     },
     "metadata": {},
     "output_type": "display_data"
    }
   ],
   "source": [
    "plt.figure(figsize=(15,8))\n",
    "for i in range(theta1.shape[0]):\n",
    "    a = theta1[i,1:].reshape((20, 20))\n",
    "    a=np.transpose(a)\n",
    "    plt.subplot(1,theta1.shape[0],i+1)\n",
    "    plt.title('N :'+ str(i))\n",
    "    plt.imshow(a,cmap='gray')"
   ]
  },
  {
   "attachments": {},
   "cell_type": "markdown",
   "metadata": {},
   "source": [
    "# Optionnel 3 : Renforcement de l'apprentissage\n",
    "Mettre ici toute idée qui pourrait renforcer votre apprentissage"
   ]
  },
  {
   "cell_type": "code",
   "execution_count": 300,
   "metadata": {},
   "outputs": [],
   "source": [
    "#essayer de changer le nombre de couche et de neurones par couche\n",
    "#essayer de changer le nombre d'itérations et les hyper parametre alpha et lambda"
   ]
  },
  {
   "attachments": {},
   "cell_type": "markdown",
   "metadata": {},
   "source": [
    "# Consignes"
   ]
  },
  {
   "attachments": {},
   "cell_type": "markdown",
   "metadata": {},
   "source": [
    "Le travail est à remettre par groupe de 4 au maximum [1..4].\n",
    "\n",
    "Le délai est le vendredi 29Avril 2022 à 22h\n"
   ]
  },
  {
   "cell_type": "code",
   "execution_count": null,
   "metadata": {},
   "outputs": [],
   "source": [
    "#BELAISSAOUI Mohamed ELmekki\n",
    "#ABDELHADI Nabih Samy\n",
    "\n",
    "# bonne chance"
   ]
  }
 ],
 "metadata": {
  "kernelspec": {
   "display_name": "Python 3 (ipykernel)",
   "language": "python",
   "name": "python3"
  },
  "language_info": {
   "codemirror_mode": {
    "name": "ipython",
    "version": 3
   },
   "file_extension": ".py",
   "mimetype": "text/x-python",
   "name": "python",
   "nbconvert_exporter": "python",
   "pygments_lexer": "ipython3",
   "version": "-1.-1.-1"
  }
 },
 "nbformat": 4,
 "nbformat_minor": 2
}
