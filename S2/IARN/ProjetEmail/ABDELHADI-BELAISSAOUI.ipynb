{
 "cells": [
  {
   "cell_type": "code",
   "execution_count": 1,
   "metadata": {},
   "outputs": [],
   "source": [
    "import pandas as pd\n",
    "import email\n",
    "import os\n",
    "import quopri\n",
    "import re\n",
    "# Define the path to the email file\n",
    "import string\n",
    "from bs4 import BeautifulSoup\n",
    "from nltk.corpus import stopwords\n",
    "from nltk.stem import WordNetLemmatizer\n",
    "from nltk.stem import PorterStemmer\n",
    "import nltk\n",
    "import csv\n",
    "import chardet\n",
    "from sklearn.feature_extraction.text import TfidfVectorizer\n",
    "import numpy as np\n"
   ]
  },
  {
   "cell_type": "code",
   "execution_count": 2,
   "metadata": {},
   "outputs": [
    {
     "name": "stderr",
     "output_type": "stream",
     "text": [
      "[nltk_data] Downloading package stopwords to\n",
      "[nltk_data]     C:\\Users\\Mekki\\AppData\\Roaming\\nltk_data...\n",
      "[nltk_data]   Package stopwords is already up-to-date!\n",
      "[nltk_data] Downloading package wordnet to\n",
      "[nltk_data]     C:\\Users\\Mekki\\AppData\\Roaming\\nltk_data...\n",
      "[nltk_data]   Package wordnet is already up-to-date!\n",
      "[nltk_data] Downloading package omw-1.4 to\n",
      "[nltk_data]     C:\\Users\\Mekki\\AppData\\Roaming\\nltk_data...\n",
      "[nltk_data]   Package omw-1.4 is already up-to-date!\n"
     ]
    },
    {
     "data": {
      "text/plain": [
       "True"
      ]
     },
     "execution_count": 2,
     "metadata": {},
     "output_type": "execute_result"
    }
   ],
   "source": [
    "#class pour recuperer les informations d'un email\n",
    "stemmer = PorterStemmer()\n",
    "lemmatizer = WordNetLemmatizer()\n",
    "nltk.download('stopwords')\n",
    "nltk.download('wordnet')\n",
    "nltk.download('omw-1.4')"
   ]
  },
  {
   "attachments": {},
   "cell_type": "markdown",
   "metadata": {},
   "source": [
    "# Projet classification des e-mails\n",
    "Lors de ce projet nous allons entrainer un modele qui servira de classificateur a e-mail pour faire nous allons procedes par plusieur etapes qui seront\n",
    "\n",
    "- Préprocessing (Prétraitement) qui servira a modéliser nos information de tel sorte qu'elles soient plus clair et simple a classer pour notre modele et cela sans changer leur signification"
   ]
  },
  {
   "attachments": {},
   "cell_type": "markdown",
   "metadata": {},
   "source": [
    "# Lecture des e mails"
   ]
  },
  {
   "cell_type": "code",
   "execution_count": 7,
   "metadata": {},
   "outputs": [
    {
     "name": "stderr",
     "output_type": "stream",
     "text": [
      "d:\\APPS\\python\\lib\\site-packages\\bs4\\__init__.py:417: MarkupResemblesLocatorWarning: \"http://www.efi.ie\" looks like a URL. Beautiful Soup is not an HTTP client. You should probably use an HTTP client like requests to get the document behind the URL, and feed that document to Beautiful Soup.\n",
      "  warnings.warn(\n",
      "d:\\APPS\\python\\lib\\site-packages\\bs4\\__init__.py:417: MarkupResemblesLocatorWarning: \"http://iiu.taint.org\" looks like a URL. Beautiful Soup is not an HTTP client. You should probably use an HTTP client like requests to get the document behind the URL, and feed that document to Beautiful Soup.\n",
      "  warnings.warn(\n",
      "d:\\APPS\\python\\lib\\site-packages\\bs4\\__init__.py:417: MarkupResemblesLocatorWarning: \"http://www.rebackee.com/cursos2/contraloria.htm\n",
      "\" looks like a URL. Beautiful Soup is not an HTTP client. You should probably use an HTTP client like requests to get the document behind the URL, and feed that document to Beautiful Soup.\n",
      "  warnings.warn(\n",
      "d:\\APPS\\python\\lib\\site-packages\\bs4\\__init__.py:417: MarkupResemblesLocatorWarning: \"http://www.post-gazette.com/columnists/20020905brian5.asp\n",
      "\n",
      "\n",
      "\n",
      "\" looks like a URL. Beautiful Soup is not an HTTP client. You should probably use an HTTP client like requests to get the document behind the URL, and feed that document to Beautiful Soup.\n",
      "  warnings.warn(\n",
      "d:\\APPS\\python\\lib\\site-packages\\bs4\\__init__.py:417: MarkupResemblesLocatorWarning: \"http://apt.nixia.no/\" looks like a URL. Beautiful Soup is not an HTTP client. You should probably use an HTTP client like requests to get the document behind the URL, and feed that document to Beautiful Soup.\n",
      "  warnings.warn(\n"
     ]
    }
   ],
   "source": [
    "\n",
    "class EmailParser:\n",
    "    def __init__(self, email_file):\n",
    "        self.file = email_file\n",
    "        with open(email_file, 'rb') as f:\n",
    "            result = chardet.detect(f.read())\n",
    "            encoding = result['encoding']\n",
    "        try:\n",
    "            with open(email_file,\"r\",encoding=encoding) as f:\n",
    "                self.msg = email.message_from_file(f)\n",
    "                self.parse()\n",
    "        except Exception as e:\n",
    "            try:\n",
    "                with open(email_file,\"r\",encoding=\"latin-1\") as f:\n",
    "                    self.msg = email.message_from_file(f)\n",
    "                    self.parse()\n",
    "            except Exception as e:\n",
    "                with open(email_file,\"r\",encoding=\"utf-8\") as f:\n",
    "                    self.msg = email.message_from_file(f)\n",
    "                    self.parse() \n",
    "            \n",
    "    def parse(self):\n",
    "        def decode_header(encoded_header):\n",
    "            decoded_header = \"\"\n",
    "            for (value, charset) in email.header.decode_header(encoded_header):\n",
    "                if charset is None:\n",
    "                    try:\n",
    "                        decoded_header += value\n",
    "                    except Exception as e:\n",
    "                        decoded_header += value.decode()\n",
    "                    \n",
    "                else:\n",
    "                    decoded_header += quopri.decodestring(value).decode(charset)\n",
    "            return decoded_header\n",
    "        \n",
    "        def notoyage(text):\n",
    "            soup = BeautifulSoup( text, \"html.parser\") #get text from body (HTML/text)\n",
    "            text = soup.get_text().lower() # pour  tout mettre en minuscule et enlever les balises html\n",
    "            text = re.sub(r\"https?://(?:[-\\w.]|(?:%[\\da-fA-F]{2}))+/\\S*\\??(?:[-\\w.&%=]+)?\", 'httpaddr', text, flags=re.MULTILINE) #remove links\n",
    "            text = re.sub(r'\\b[A-Za-z0-9._%+-]+@[A-Za-z0-9.-]+\\.[A-Z|a-z]{2,}\\b', 'emailaddr', text, flags=re.MULTILINE) #remove email addresses\n",
    "            text = re.sub(r\"\\$\", \"dollar\", text, flags=re.MULTILINE)# remove $ sign\n",
    "            text = re.sub(r'[^\\w\\s]', ' ', text) #remove non alphanumeric characters\n",
    "            text = re.sub(r\"\\d+\", 'nombre', text, flags=re.MULTILINE)#remove digits\n",
    "            text = text.translate(str.maketrans('', '', string.punctuation)) # remove punctuation\n",
    "            text = re.sub(r'\\s+', ' ', text) #remove extra spaces\n",
    "            stop_words = stopwords.words('english')\n",
    "            words_list = [w for w in text.split() if w not in stop_words] # remove stop words\n",
    "            words_list = [lemmatizer.lemmatize(w) for w in words_list] #lemmatization\n",
    "            words_list = [stemmer.stem(w) for w in words_list] #Stemming\n",
    "            return \" \".join(words_list)\n",
    "        # Parse the email using the email library\n",
    "        # Extract the email elements\n",
    "        try:\n",
    "            self.sender = decode_header(self.msg.get(\"From\"))\n",
    "        except Exception as e:\n",
    "            self.sender = ''\n",
    "        try:\n",
    "            self.subject = decode_header(self.msg.get(\"Subject\"))\n",
    "        except Exception as e:\n",
    "            self.subject = ''\n",
    "\n",
    "        try:\n",
    "            self.date = decode_header(self.msg.get(\"Date\"))\n",
    "        except Exception as e:\n",
    "            self.date = ''\n",
    "        \n",
    "        try:\n",
    "            self.to = decode_header(self.msg.get(\"To\"))\n",
    "        except Exception as e:\n",
    "            self.to = ''\n",
    "        \n",
    "        self.body = \"\"\n",
    "\n",
    "        # Extract the body of the email, which may be multipart\n",
    "        if self.msg.is_multipart():\n",
    "            for part in self.msg.walk():\n",
    "                content_type = part.get_content_type()\n",
    "                content_disposition = str(part.get(\"Content-Disposition\"))\n",
    "                if content_type == \"text/plain\" and \"attachment\" not in content_disposition:\n",
    "                    self.body = part.get_payload(decode=True)\n",
    "                    charset = self.msg.get_charset()\n",
    "                    if not charset:\n",
    "                        charset = 'iso-8859-1'\n",
    "                    self.body = self.body.decode(charset)\n",
    "        else:\n",
    "            content_type = self.msg.get_content_type()\n",
    "            if content_type == \"text/plain\":\n",
    "                self.body = self.msg.get_payload(decode=True)\n",
    "                charset = self.msg.get_charset()\n",
    "                if not charset:\n",
    "                    charset = 'iso-8859-1'\n",
    "                self.body = self.body.decode(charset)\n",
    "        self.body = re.sub(r'(URL:.*\\s)', '', self.body, flags=re.MULTILINE)\n",
    "        self.body = re.sub(r'Date:.*\\n', '', self.body, flags=re.MULTILINE)\n",
    "        \n",
    "        self.body = notoyage(self.body)\n",
    "        self.subject = notoyage(self.subject)\n",
    "        \n",
    "\n",
    "easy_normal = os.listdir('easy_ham')\n",
    "hard_normal = os.listdir('hard_ham')\n",
    "spam = os.listdir('spam_2')\n",
    "\n",
    "header = ['From', 'To', 'Subject', 'Date', 'Body', 'Label']\n",
    "\n",
    "with open('Emails.csv', 'w', encoding='UTF8') as f:\n",
    "    # write the header\n",
    "    writer = csv.writer(f,lineterminator = '\\n')\n",
    "    writer.writerow(header)\n",
    "    for email_file in spam:\n",
    "        email_file = os.path.join('spam_2', email_file)\n",
    "        parsed = EmailParser(email_file)\n",
    "        data = [parsed.sender, parsed.to, parsed.subject, parsed.date, parsed.body, 'spam']\n",
    "        writer.writerow(data)\n",
    "\n",
    "    for email_file in easy_normal:\n",
    "        email_file = os.path.join('easy_ham', email_file)\n",
    "        parsed = EmailParser(email_file)\n",
    "        data = [parsed.sender, parsed.to, parsed.subject, parsed.date, parsed.body, 'ham']\n",
    "        # write the data\n",
    "        writer.writerow(data)\n",
    "    for email_file in hard_normal:\n",
    "        email_file = os.path.join('hard_ham', email_file)\n",
    "        parsed = EmailParser(email_file)\n",
    "        data = [parsed.sender, parsed.to, parsed.subject, parsed.date, parsed.body, 'ham']\n",
    "        # write the data\n",
    "        writer.writerow(data)\n",
    "\n"
   ]
  },
  {
   "attachments": {},
   "cell_type": "markdown",
   "metadata": {},
   "source": [
    "# Creation du vocabulaire"
   ]
  },
  {
   "cell_type": "code",
   "execution_count": 8,
   "metadata": {},
   "outputs": [
    {
     "name": "stdout",
     "output_type": "stream",
     "text": [
      "3426\n"
     ]
    },
    {
     "name": "stderr",
     "output_type": "stream",
     "text": [
      "d:\\APPS\\python\\lib\\site-packages\\sklearn\\utils\\deprecation.py:87: FutureWarning: Function get_feature_names is deprecated; get_feature_names is deprecated in 1.0 and will be removed in 1.2. Please use get_feature_names_out instead.\n",
      "  warnings.warn(msg, category=FutureWarning)\n"
     ]
    }
   ],
   "source": [
    "Corpus = pd.read_csv(r\"Emails.csv\",encoding='UTF8')\n",
    "nbElements = Corpus.shape[0]\n",
    "Corpus = Corpus.dropna(subset=['Body'])\n",
    "print(Corpus.shape[0])\n",
    "#on vas prendre les mots qui apparaissent au moins 3 fois et on prend les 3000 mots les plus fréquents\n",
    "Tfidf_vect = TfidfVectorizer(max_features=3000,min_df=10)\n",
    "\n",
    "Tfidf_vect.fit(Corpus['Body'])\n",
    "Tfidf_vect.vocabulary_\n",
    "\n",
    "Vocabulaire = np.array(Tfidf_vect.get_feature_names())\n",
    "Vocabulaire = np.array(Vocabulaire)\n",
    "\n",
    "np.savetxt(\"Vocabulaire.csv\", Vocabulaire, delimiter=\",\",encoding='UTF8',fmt='%s')"
   ]
  },
  {
   "attachments": {},
   "cell_type": "markdown",
   "metadata": {},
   "source": [
    "# Creation vecteur de caracteristique"
   ]
  },
  {
   "cell_type": "code",
   "execution_count": 9,
   "metadata": {},
   "outputs": [],
   "source": [
    "Dataset = np.zeros((nbElements,len(Vocabulaire)))\n",
    "Corpus = pd.read_csv(r\"Emails.csv\",encoding='UTF8')\n",
    "for i in range(nbElements):\n",
    "    for j in range(len(Vocabulaire)):\n",
    "        if Vocabulaire[j] in str(Corpus['Body'][i]):\n",
    "            Dataset[i,j] +=1\n",
    "Dataset = np.column_stack((Dataset,Corpus['Label']))"
   ]
  },
  {
   "cell_type": "code",
   "execution_count": 40,
   "metadata": {},
   "outputs": [],
   "source": [
    "\n",
    "# create a new row to insert at the beginning\n",
    "new_row = np.column_stack((Vocabulaire.reshape(1,-1),\"label\"))\n",
    "newD = np.column_stack((Vocabulaire.reshape(1,-1),\"label\"))\n",
    "# insert the new row at the beginning\n",
    "arr = np.insert(Dataset, 0, newD, axis=0)\n",
    "\n",
    "series = pd.DataFrame(arr)\n",
    "\n",
    "series.to_csv('vecteurs_caracteristiques.csv', index=False, header=False,encoding='UTF8')"
   ]
  },
  {
   "attachments": {},
   "cell_type": "markdown",
   "metadata": {},
   "source": [
    "# Entrainement"
   ]
  },
  {
   "cell_type": "code",
   "execution_count": 54,
   "metadata": {},
   "outputs": [
    {
     "data": {
      "text/plain": [
       "((2938, 3000), (1260, 3000), (2938,), (1260,))"
      ]
     },
     "execution_count": 54,
     "metadata": {},
     "output_type": "execute_result"
    }
   ],
   "source": [
    "from matplotlib.pyplot import plot\n",
    "from sklearn import model_selection\n",
    "from sklearn.calibration import LabelEncoder\n",
    "from sklearn.neural_network import MLPClassifier\n",
    "\n",
    "\n",
    "datafram = pd.read_csv(r\"vecteurs_caracteristiques.csv\",encoding='UTF8')\n",
    "datafram.shape\n",
    "\n",
    "# create a dictionary to map string labels to numeric values\n",
    "label_map = {'ham': 0, 'spam': 1}\n",
    "\n",
    "# replace string labels with numeric values\n",
    "datafram['label.1'] = datafram['label.1'].replace(label_map)\n",
    "\n",
    "# préparation des données pour l'entrainement et le test\n",
    "Train_X, Test_X, Train_Y, Test_Y = model_selection.train_test_split(datafram.loc[:, ~datafram.columns.isin(['label'])],datafram['label.1'],test_size=0.3)\n",
    "Train_X.shape, Test_X.shape, Train_Y.shape, Test_Y.shape\n"
   ]
  },
  {
   "attachments": {},
   "cell_type": "markdown",
   "metadata": {},
   "source": [
    "Distribution des données "
   ]
  },
  {
   "cell_type": "code",
   "execution_count": 62,
   "metadata": {},
   "outputs": [
    {
     "data": {
      "image/png": "[encoded data removed]",
      "text/plain": [
       "<Figure size 640x480 with 1 Axes>"
      ]
     },
     "metadata": {},
     "output_type": "display_data"
    }
   ],
   "source": [
    "import matplotlib.pyplot as plt\n",
    "\n",
    "# create some sample data\n",
    "labels = ['Ham', 'Spam']\n",
    "sizes = [Train_Y[Train_Y==0].shape[0], Train_Y[Train_Y==1].shape[0]]\n",
    "\n",
    "# create a new figure and axis\n",
    "fig, ax = plt.subplots()\n",
    "\n",
    "# plot the pie chart\n",
    "ax.pie(sizes, labels=labels, autopct='%1.1f%%')\n",
    "\n",
    "# set the aspect ratio to be equal\n",
    "ax.axis('equal')\n",
    "\n",
    "# draw a circle in the center of the chart\n",
    "circle = plt.Circle((0, 0), 0.5, color='white')\n",
    "ax.add_artist(circle)\n",
    "ax.legend(labels, loc='upper right')\n",
    "ax.set_title('Distribution des données d\\'entrainement')\n",
    "# display the plot\n",
    "plt.show()"
   ]
  },
  {
   "attachments": {},
   "cell_type": "markdown",
   "metadata": {},
   "source": [
    "# MLP"
   ]
  },
  {
   "cell_type": "code",
   "execution_count": 63,
   "metadata": {},
   "outputs": [
    {
     "data": {
      "text/plain": [
       "0.9896825396825397"
      ]
     },
     "execution_count": 63,
     "metadata": {},
     "output_type": "execute_result"
    }
   ],
   "source": [
    "mlp = MLPClassifier(hidden_layer_sizes=(100,100,100), max_iter=1500, alpha=0.0001)\n",
    "\n",
    "mlp.fit(Train_X,Train_Y)\n",
    "\n",
    "mlp.score(Test_X,Test_Y)"
   ]
  },
  {
   "attachments": {},
   "cell_type": "markdown",
   "metadata": {},
   "source": [
    "# SVM"
   ]
  },
  {
   "cell_type": "code",
   "execution_count": 64,
   "metadata": {},
   "outputs": [
    {
     "data": {
      "text/plain": [
       "1.0"
      ]
     },
     "execution_count": 64,
     "metadata": {},
     "output_type": "execute_result"
    }
   ],
   "source": [
    "from sklearn import svm\n",
    "\n",
    "\n",
    "svmclassifier = svm.SVC(kernel='linear', C=1, gamma=1)\n",
    "\n",
    "svmclassifier.fit(Train_X,Train_Y)\n",
    "\n",
    "svmclassifier.score(Test_X,Test_Y)"
   ]
  },
  {
   "attachments": {},
   "cell_type": "markdown",
   "metadata": {},
   "source": [
    "# Regression Logistique"
   ]
  },
  {
   "cell_type": "code",
   "execution_count": 65,
   "metadata": {},
   "outputs": [
    {
     "data": {
      "text/plain": [
       "1.0"
      ]
     },
     "execution_count": 65,
     "metadata": {},
     "output_type": "execute_result"
    }
   ],
   "source": [
    "from sklearn.linear_model import LogisticRegression\n",
    "\n",
    "\n",
    "logClassifier = LogisticRegression(random_state=0, solver='lbfgs',multi_class='multinomial')\n",
    "\n",
    "logClassifier.fit(Train_X,Train_Y)\n",
    "\n",
    "logClassifier.score(Test_X,Test_Y)"
   ]
  },
  {
   "attachments": {},
   "cell_type": "markdown",
   "metadata": {},
   "source": [
    "# KNN"
   ]
  },
  {
   "cell_type": "code",
   "execution_count": 66,
   "metadata": {},
   "outputs": [
    {
     "data": {
      "text/plain": [
       "0.9492063492063492"
      ]
     },
     "execution_count": 66,
     "metadata": {},
     "output_type": "execute_result"
    }
   ],
   "source": [
    "from sklearn.neighbors import KNeighborsClassifier\n",
    "\n",
    "\n",
    "KnnClassifier = KNeighborsClassifier(n_neighbors=5)\n",
    "\n",
    "KnnClassifier.fit(Train_X,Train_Y)\n",
    "\n",
    "KnnClassifier.score(Test_X,Test_Y)"
   ]
  },
  {
   "attachments": {},
   "cell_type": "markdown",
   "metadata": {},
   "source": [
    "# Naives bayes"
   ]
  },
  {
   "cell_type": "code",
   "execution_count": 67,
   "metadata": {},
   "outputs": [
    {
     "data": {
      "text/plain": [
       "0.9952380952380953"
      ]
     },
     "execution_count": 67,
     "metadata": {},
     "output_type": "execute_result"
    }
   ],
   "source": [
    "from sklearn.naive_bayes import GaussianNB\n",
    "\n",
    "\n",
    "NaiveBayesClassifier = GaussianNB()\n",
    "\n",
    "NaiveBayesClassifier.fit(Train_X,Train_Y)\n",
    "\n",
    "NaiveBayesClassifier.score(Test_X,Test_Y)\n"
   ]
  },
  {
   "attachments": {},
   "cell_type": "markdown",
   "metadata": {},
   "source": [
    "# Keras (deeplearning)"
   ]
  },
  {
   "cell_type": "code",
   "execution_count": 89,
   "metadata": {},
   "outputs": [
    {
     "name": "stdout",
     "output_type": "stream",
     "text": [
      "Epoch 1/10\n",
      "92/92 [==============================] - 1s 3ms/step - loss: 0.3225 - accuracy: 0.9238\n",
      "Epoch 2/10\n",
      "92/92 [==============================] - 0s 3ms/step - loss: 0.1470 - accuracy: 0.9915\n",
      "Epoch 3/10\n",
      "92/92 [==============================] - 0s 3ms/step - loss: 0.0945 - accuracy: 0.9969\n",
      "Epoch 4/10\n",
      "92/92 [==============================] - 0s 3ms/step - loss: 0.0615 - accuracy: 0.9986\n",
      "Epoch 5/10\n",
      "92/92 [==============================] - 0s 3ms/step - loss: 0.0410 - accuracy: 0.9997\n",
      "Epoch 6/10\n",
      "92/92 [==============================] - 0s 2ms/step - loss: 0.0292 - accuracy: 1.0000\n",
      "Epoch 7/10\n",
      "92/92 [==============================] - 0s 3ms/step - loss: 0.0216 - accuracy: 1.0000\n",
      "Epoch 8/10\n",
      "92/92 [==============================] - 0s 2ms/step - loss: 0.0163 - accuracy: 1.0000\n",
      "Epoch 9/10\n",
      "92/92 [==============================] - 0s 3ms/step - loss: 0.0125 - accuracy: 1.0000\n",
      "Epoch 10/10\n",
      "92/92 [==============================] - 0s 2ms/step - loss: 0.0098 - accuracy: 1.0000\n",
      "40/40 - 0s - loss: 0.0318 - accuracy: 0.9960 - 178ms/epoch - 4ms/step\n",
      "Test accuracy: 0.9960317611694336\n"
     ]
    }
   ],
   "source": [
    "import tensorflow as tf\n",
    "from tensorflow import keras\n",
    "\n",
    "# Define the model\n",
    "model = keras.Sequential([\n",
    "    keras.layers.Flatten(input_shape=(3000,)),\n",
    "    keras.layers.Dense(128, activation='relu'),\n",
    "    keras.layers.Dense(10, activation='softmax')\n",
    "])\n",
    "\n",
    "# Define the model\n",
    "model = keras.Sequential([\n",
    "    keras.layers.Dense(32, activation='relu', input_shape=(3000,)),\n",
    "    keras.layers.Dense(1, activation='sigmoid')\n",
    "])\n",
    "\n",
    "# Compile the model\n",
    "model.compile(optimizer='adam', loss='binary_crossentropy', metrics=['accuracy'])\n",
    "\n",
    "# Convert the data to numpy arrays\n",
    "X = np.array(Train_X)\n",
    "y = np.array(Train_Y)\n",
    "\n",
    "model.fit(X, y, epochs=10)\n",
    "\n",
    "# Evaluate the model on test data\n",
    "X_test = np.array(Test_X)\n",
    "y_test = np.array(Test_Y)\n",
    "test_loss, Keras_test_acc = model.evaluate(X_test, y_test, verbose=2)\n",
    "print('Test accuracy:', test_acc) "
   ]
  },
  {
   "attachments": {},
   "cell_type": "markdown",
   "metadata": {},
   "source": [
    "# Comparaison des résultat"
   ]
  },
  {
   "cell_type": "code",
   "execution_count": 90,
   "metadata": {},
   "outputs": [
    {
     "data": {
      "image/png": "[encoded data removed]",
      "text/plain": [
       "<Figure size 640x480 with 1 Axes>"
      ]
     },
     "metadata": {},
     "output_type": "display_data"
    }
   ],
   "source": [
    "# Sample data\n",
    "labels = ['SVM', 'RN', 'KNN', 'RL', 'NaiveBayes',\"Keras\"]\n",
    "values = [svmclassifier.score(Test_X,Test_Y), mlp.score(Test_X,Test_Y), KnnClassifier.score(Test_X,Test_Y), logClassifier.score(Test_X,Test_Y), NaiveBayesClassifier.score(Test_X,Test_Y),Keras_test_acc]\n",
    "\n",
    "# Create a new figure and axis\n",
    "fig, ax = plt.subplots()\n",
    "cmap = plt.cm.Set2\n",
    "colors = cmap(range(len(labels)))\n",
    "\n",
    "# Create a bar plot\n",
    "ax.bar(labels, values,color = colors)\n",
    "\n",
    "# Set the title and axis labels\n",
    "ax.set_title('Graph qui représente le score des différents algorithmes de classification')\n",
    "ax.set_xlabel('Score')\n",
    "ax.set_ylabel('Classificateur')\n",
    "\n",
    "# Display the plot\n",
    "plt.show()"
   ]
  },
  {
   "attachments": {},
   "cell_type": "markdown",
   "metadata": {},
   "source": [
    "On remarque que la pluspart des classfieur donnes de bon résultat mais les meilleurs sont SVM et la regression logistique qui donne 100% de précision tant dis que KNN donne la moin bonne avec 94%\n",
    "\n",
    "On  en déduit que notre préprocessing a été très significatif vu les resultat donnée avec une  moyenne de 99% de précision ce qui est plus que correcte et très encourageant pour l'utilisation de notre technique  \n"
   ]
  }
 ],
 "metadata": {
  "kernelspec": {
   "display_name": "Python 3",
   "language": "python",
   "name": "python3"
  },
  "language_info": {
   "codemirror_mode": {
    "name": "ipython",
    "version": 3
   },
   "file_extension": ".py",
   "mimetype": "text/x-python",
   "name": "python",
   "nbconvert_exporter": "python",
   "pygments_lexer": "ipython3",
   "version": "3.9.1"
  },
  "orig_nbformat": 4
 },
 "nbformat": 4,
 "nbformat_minor": 2
}
