{
 "cells": [
  {
   "cell_type": "markdown",
   "metadata": {},
   "source": [
    "# TP 5 Réseaux de neurones - Multi classification et Propagation en avant\n",
    "Dans ce TP, nous aimerions faire une classification multiclasse. Pour ce faire, nous allons comparer entre une classification utilisant la regression logistique, et une classification en utilisant les réseaux de neurones.\n",
    "\n",
    "L'ensemble de données que nous allons utiliser est le même que celui utilisé durant le TP1, i.e. les images de chiffres manuscrits.\n"
   ]
  },
  {
   "cell_type": "markdown",
   "metadata": {},
   "source": [
    "# Importation des librairies necessaires au travail"
   ]
  },
  {
   "cell_type": "code",
   "execution_count": 58,
   "metadata": {},
   "outputs": [],
   "source": [
    "import numpy as np\n",
    "import matplotlib.pyplot as plt\n",
    "from numpy import random\n",
    "import cv2 "
   ]
  },
  {
   "cell_type": "markdown",
   "metadata": {},
   "source": [
    "# Lecture des fichiers de données\n",
    "Pour ce TP, nous allons lire les données à partir d'un fichier csv."
   ]
  },
  {
   "cell_type": "code",
   "execution_count": 59,
   "metadata": {},
   "outputs": [
    {
     "data": {
      "text/plain": [
       "(5000, 401)"
      ]
     },
     "execution_count": 59,
     "metadata": {},
     "output_type": "execute_result"
    }
   ],
   "source": [
    "# données\n",
    "data = np.genfromtxt('data.csv', delimiter=',', dtype=float)\n",
    "data.shape"
   ]
  },
  {
   "cell_type": "markdown",
   "metadata": {},
   "source": [
    "Dans ces données (data), les 400 premières colonnes representent les pixels de l'image (20x20), la dernière colonne represente la classe de l'image (chiffres de 0 à 9). (http://yann.lecun.com/exdb/mnist/)\n",
    "\n",
    "Chaque ligne represente un exemple de notre ensemble de données. \n",
    "\n",
    "Mettons ces données dans leus vecteurs correspondants."
   ]
  },
  {
   "cell_type": "code",
   "execution_count": 60,
   "metadata": {},
   "outputs": [],
   "source": [
    "# rajoutons l'ordonnée à l'origine theta 0\n",
    "intercept=np.ones((data.shape[0],1))\n",
    "X=np.column_stack((intercept,data[:,:-1]))\n",
    "y=data[:,-1]\n",
    "# forcer y à avoir une seule colonne\n",
    "y = y.reshape( y.shape[0], 1)"
   ]
  },
  {
   "cell_type": "code",
   "execution_count": 61,
   "metadata": {},
   "outputs": [
    {
     "name": "stdout",
     "output_type": "stream",
     "text": [
      "X (5000, 401)  y  (5000, 1)\n"
     ]
    }
   ],
   "source": [
    "print('X', X.shape ,' y ', y.shape)"
   ]
  },
  {
   "cell_type": "markdown",
   "metadata": {},
   "source": [
    "Visualisation aléatoire de quelques données"
   ]
  },
  {
   "cell_type": "code",
   "execution_count": 62,
   "metadata": {},
   "outputs": [
    {
     "data": {
      "image/png": "[encoded data removed]",
      "text/plain": [
       "<Figure size 1500x800 with 13 Axes>"
      ]
     },
     "metadata": {},
     "output_type": "display_data"
    }
   ],
   "source": [
    "plt.figure(figsize=(15,8))\n",
    "for i in range(13):\n",
    "    c = random.randint(X.shape[0])\n",
    "    a = X[c,1:].reshape((20, 20))\n",
    "    a=np.transpose(a)\n",
    "    plt.subplot(1,13,i+1)\n",
    "    plt.title('label '+ str(y[c]))\n",
    "    plt.imshow(a,cmap='gray')"
   ]
  },
  {
   "cell_type": "markdown",
   "metadata": {},
   "source": [
    "# Partie 1, régression logistique\n",
    "Dans cette partie, nous aimerions utiliser la régression logistique pour classifier nos images\n",
    "\n",
    "Rappelons que la régression logistique nous donne la probabilité d'appartenance (oui ou non) à la classe 1 (elle permet une classification binaire).\n",
    "\n",
    "Pour étendre la régression logistique à une multi-classification, nous allons utiliser une stratégie 1 contre tous.\n",
    "\n",
    "Nous paramètres $\\theta$ seront donc une matrice avec un nombre de lignes égale au nombre de classes, et avec un nombre de colones égale au nombre decaractéristiques (chaque ligne de la matrice $\\theta$ correspond aux paramètres d'un classifieur."
   ]
  },
  {
   "cell_type": "code",
   "execution_count": 140,
   "metadata": {},
   "outputs": [],
   "source": [
    "def Sigmoid(z):\n",
    "    # pour une valeur donnée, cette fonction calculera sa sigmoid\n",
    "    return 1/(1+np.exp(-z))\n",
    "\n",
    "def lrCostFunction (X, y, initial_theta, alpha, MaxIter,lambda_):\n",
    "    # dans cette fonction vous devez appliquer la regression logistique avec tout ce que ceci implique\n",
    "    # calcul du coût, minimisation du coût avec descente du gradient, et retour des paramètres theta pour une classe\n",
    "    theta = initial_theta\n",
    "    for i in range(0,MaxIter):\n",
    "        theta=theta-(alpha/X.shape[0])*(np.dot(X.T,(Sigmoid(np.dot(X,theta))-y))+lambda_*theta)\n",
    "\n",
    "    return theta"
   ]
  },
  {
   "cell_type": "code",
   "execution_count": 141,
   "metadata": {},
   "outputs": [],
   "source": [
    "def predictOneVsAll(all_theta, X):\n",
    "    # ici en utilisant les paramètres calculés par la régression logisitique, \n",
    "    # nous aiemrions retourner les etiquettes predites\n",
    "    \n",
    "    # Ici chaque classifieur retournera de probabilité, il faudra choisir \n",
    "    # la probabilité maximale \n",
    "    # de tous les classifieurs d'une exemple donné\n",
    "    # répeter pour tous les exmemples\n",
    "\n",
    "    y_pred = Sigmoid(np.dot(X,all_theta.T))\n",
    "    \n",
    "    return y_pred"
   ]
  },
  {
   "cell_type": "code",
   "execution_count": 142,
   "metadata": {},
   "outputs": [
    {
     "data": {
      "text/plain": [
       "(10, 401)"
      ]
     },
     "execution_count": 142,
     "metadata": {},
     "output_type": "execute_result"
    }
   ],
   "source": [
    "classes= np.unique(y)\n",
    "number_classes=classes.shape[0]\n",
    "all_theta = np.zeros((number_classes, X.shape[1]));\n",
    "all_theta.shape"
   ]
  },
  {
   "cell_type": "code",
   "execution_count": 181,
   "metadata": {},
   "outputs": [],
   "source": [
    "# paramètres\n",
    "MaxIter = 4000\n",
    "alpha = 0.01\n",
    "\n",
    "# paramètre de regression\n",
    "lambda_ = 0.1\n",
    "\n",
    "# initial_theta pour chaque classifieur\n",
    "initial_theta=np.zeros((X.shape[1], 1));\n",
    "for i in range (number_classes):\n",
    "     # appel pour chaque classifieur\n",
    "     theta = lrCostFunction(X,(y==classes[i]).astype(int),initial_theta,alpha, MaxIter,lambda_);\n",
    "     all_theta[i,:]=theta.T;"
   ]
  },
  {
   "cell_type": "code",
   "execution_count": 184,
   "metadata": {},
   "outputs": [],
   "source": [
    "def getclass(y_pred):\n",
    "    # cette fonction retourne l'indice de la probabilité maximale\n",
    "    # de chaque exemple\n",
    "    return np.argmax(y_pred, axis=1)\n",
    "\n",
    "\n",
    "y_pred = predictOneVsAll(all_theta, X);\n",
    "\n",
    "y_pred = getclass(y_pred)\n"
   ]
  },
  {
   "cell_type": "markdown",
   "metadata": {},
   "source": [
    "# Qualité du classifieur RL\n",
    "\n",
    "Prédire des valeurs de y\n",
    "\n",
    "Ici il serait interessant de calculer la précision de notre classifieur\n",
    "\n",
    "Essayons de calculer ça avec \n",
    "\n",
    "moyenne(y==y-pred) * 100\n",
    "\n",
    "Ceci donnera un pourcentage de precision"
   ]
  },
  {
   "cell_type": "code",
   "execution_count": 185,
   "metadata": {},
   "outputs": [
    {
     "name": "stdout",
     "output_type": "stream",
     "text": [
      "precision =  0.881\n"
     ]
    }
   ],
   "source": [
    "true=0\n",
    "for i in range(0,y_pred.shape[0]):\n",
    "    if y_pred[i]==y[i]:\n",
    "        true+=1\n",
    "\n",
    "print('precision = ',true/y_pred.shape[0])"
   ]
  },
  {
   "cell_type": "markdown",
   "metadata": {},
   "source": [
    "# Partie 2: Réseaux de neurones\n",
    "Pour cette partie, nous choisissons une réseau simple:\n",
    "\n",
    "- une couche d'entrée avec 400 noeuds (20 x 20 pixels) + le biais\n",
    "- une couche cachée avec 25 noeuds\n",
    "- une couche de sortie avec 10 noeuds (nombre de classes)"
   ]
  },
  {
   "cell_type": "code",
   "execution_count": 147,
   "metadata": {},
   "outputs": [
    {
     "data": {
      "text/plain": [
       "(25, 401)"
      ]
     },
     "execution_count": 147,
     "metadata": {},
     "output_type": "execute_result"
    }
   ],
   "source": [
    "# poids de la couche 1\n",
    "W1 = np.genfromtxt('W1.csv', delimiter=',', dtype=float)\n",
    "W1.shape\n"
   ]
  },
  {
   "cell_type": "code",
   "execution_count": 148,
   "metadata": {},
   "outputs": [
    {
     "data": {
      "text/plain": [
       "(10, 26)"
      ]
     },
     "execution_count": 148,
     "metadata": {},
     "output_type": "execute_result"
    }
   ],
   "source": [
    "# poids de la couche 2\n",
    "W2 = np.genfromtxt('W2.csv', delimiter=',', dtype=float)\n",
    "W2.shape"
   ]
  },
  {
   "cell_type": "code",
   "execution_count": 149,
   "metadata": {},
   "outputs": [],
   "source": [
    "input_layer_size  = 400;  \n",
    "hidden_layer_size = 25;   \n",
    "num_labels = 10;"
   ]
  },
  {
   "cell_type": "markdown",
   "metadata": {},
   "source": [
    "**Prédiction**\n",
    "\n",
    "Appliquer une propagation en avant en utilisant les paramètres données pour prédir les classes de l'ensemble d'apprentissage.\n",
    "\n"
   ]
  },
  {
   "cell_type": "code",
   "execution_count": 173,
   "metadata": {},
   "outputs": [],
   "source": [
    "def predict (W1, W2, X):\n",
    "    \n",
    "    # appliquer une propagation en avant\n",
    "    # !--- n'oubliez pas d'appliquer la sigmoid à chaque couche afin d'avoir les probabilités ---!\n",
    "    \n",
    "    # prédire la classe en choisissant la probabilité maximale parmi les 10 noeuds de sortie\n",
    "\n",
    "    a2 = Sigmoid(np.dot(X,W1.T))\n",
    "    a2 = np.column_stack((np.ones((a2.shape[0],1)),a2))\n",
    "    print(a2.shape)\n",
    "    a3 = Sigmoid(np.dot(a2,W2.T))\n",
    "    predict = np.argmax(a3, axis=1) + 1\n",
    "    predict[predict==10]=0\n",
    "    return predict"
   ]
  },
  {
   "cell_type": "code",
   "execution_count": 179,
   "metadata": {},
   "outputs": [
    {
     "name": "stdout",
     "output_type": "stream",
     "text": [
      "(5000, 26)\n",
      "precision =  0.9752\n"
     ]
    }
   ],
   "source": [
    "# calcul de precision = nombre de valeurs bien prédites (ici sur toute la base X)\n",
    "y_pred=predict(W1,W2,X)\n",
    "true=0\n",
    "for i in range(0,y_pred.shape[0]):\n",
    "    if y_pred[i]==y[i]:\n",
    "        true+=1\n",
    "\n",
    "print('precision = ',true/y_pred.shape[0])\n"
   ]
  },
  {
   "cell_type": "markdown",
   "metadata": {},
   "source": [
    "# Vérification de l'implementation\n",
    "Comparer vos algorithmes à ceux de scikitlearn"
   ]
  },
  {
   "cell_type": "code",
   "execution_count": 191,
   "metadata": {},
   "outputs": [
    {
     "name": "stdout",
     "output_type": "stream",
     "text": [
      "precision =  1.0\n"
     ]
    }
   ],
   "source": [
    "from sklearn.neural_network import MLPClassifier\n",
    "\n",
    "\n",
    "mlp = MLPClassifier(hidden_layer_sizes=(25), max_iter=1000)\n",
    "mlp.fit(X, y.reshape(y.shape[0],))\n",
    "y_pred = mlp.predict(X)\n",
    "\n",
    "true=0\n",
    "for i in range(0,y_pred.shape[0]):\n",
    "    if y_pred[i]==y[i]:\n",
    "        true+=1\n",
    "\n",
    "print('precision = ',true/y_pred.shape[0])"
   ]
  },
  {
   "cell_type": "markdown",
   "metadata": {},
   "source": [
    "# Renforcement d'apprentissage\n",
    "Mettre ici toute idée qui pourrait renforcer votre apprentissage"
   ]
  },
  {
   "cell_type": "code",
   "execution_count": 188,
   "metadata": {},
   "outputs": [],
   "source": [
    "#augmenter le nombre d'itérations et de couches cachées \n",
    "#modifier les paramètres de la descente du gradient pour la regression logistique ainsi que le paramètre lambda"
   ]
  },
  {
   "cell_type": "markdown",
   "metadata": {},
   "source": [
    "# Consignes"
   ]
  },
  {
   "cell_type": "markdown",
   "metadata": {},
   "source": [
    "Le travail est à remettre par groupe de 4 au maximum [1..4].\n",
    "\n",
    "Le délai est le vendredi 22 Avril 2022 à 22h\n"
   ]
  },
  {
   "cell_type": "code",
   "execution_count": 190,
   "metadata": {},
   "outputs": [],
   "source": [
    "#BELAISSAOUI Mohamed Elmekki\n",
    "#ABDELHADI Nabih Samy\n",
    "\n",
    "# bonne chance"
   ]
  }
 ],
 "metadata": {
  "kernelspec": {
   "display_name": "Python 3",
   "language": "python",
   "name": "python3"
  },
  "language_info": {
   "codemirror_mode": {
    "name": "ipython",
    "version": 3
   },
   "file_extension": ".py",
   "mimetype": "text/x-python",
   "name": "python",
   "nbconvert_exporter": "python",
   "pygments_lexer": "ipython3",
   "version": "3.9.1"
  }
 },
 "nbformat": 4,
 "nbformat_minor": 2
}
