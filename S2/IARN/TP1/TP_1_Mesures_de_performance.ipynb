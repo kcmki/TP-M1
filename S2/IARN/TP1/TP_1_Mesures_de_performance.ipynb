{
 "cells": [
  {
   "attachments": {},
   "cell_type": "markdown",
   "metadata": {
    "id": "23HhZ0TZl0zP"
   },
   "source": [
    "# TP 1 Mesures de performance\n",
    "Dans ce TP, nous aimerions avoir un premier apperçu sur les algorithmes d'apprentissage automatique. Plus précisément, nous aimerions évaluer leurs performances en utilisant les métriques suivantes:\n",
    "- Matrice de conusion\n",
    "- Rappel\n",
    "- Précision\n",
    "- Taux de FP\n",
    "- Spécificité\n",
    "- Courbe ROC\n",
    "\n",
    "Les mesures devront être calculées sur la tâche de classification de nombres manuscrits.\n",
    "\n",
    "Le travail consiste à implementer ces métriques et à les comparer avec les métriques des librairies disponibles.\n",
    "\n",
    "Les algorithmes : K plus Proches Voisins devront être implementés."
   ]
  },
  {
   "cell_type": "markdown",
   "metadata": {
    "id": "RnUKQQfjl0ze"
   },
   "source": [
    "# Importation des librairies necessaires au travail"
   ]
  },
  {
   "cell_type": "code",
   "execution_count": 1,
   "metadata": {
    "executionInfo": {
     "elapsed": 1671,
     "status": "ok",
     "timestamp": 1646692651996,
     "user": {
      "displayName": "Mounir Dekali",
      "photoUrl": "https://lh3.googleusercontent.com/a-/AOh14Gg8ysiB3LFZobpTpBaxvF4VcyOV4pcw95wF6Mdyhw=s64",
      "userId": "18151484264085085052"
     },
     "user_tz": -60
    },
    "id": "YDZVV6GVl0zg"
   },
   "outputs": [],
   "source": [
    "import numpy as np\n",
    "import pandas as pd\n",
    "import math\n",
    "import cv2 \n",
    "import matplotlib.pyplot as plt\n",
    "from numpy import random\n",
    "from sklearn.neural_network import MLPClassifier\n",
    "from sklearn.model_selection import train_test_split\n",
    "from sklearn import svm\n",
    "from sklearn.tree import DecisionTreeClassifier\n",
    "from sklearn.neighbors import KNeighborsClassifier\n",
    "from sklearn.metrics import classification_report, confusion_matrix\n",
    "from sklearn.preprocessing import StandardScaler"
   ]
  },
  {
   "cell_type": "code",
   "execution_count": 2,
   "metadata": {
    "executionInfo": {
     "elapsed": 2710,
     "status": "ok",
     "timestamp": 1646692656130,
     "user": {
      "displayName": "Mounir Dekali",
      "photoUrl": "https://lh3.googleusercontent.com/a-/AOh14Gg8ysiB3LFZobpTpBaxvF4VcyOV4pcw95wF6Mdyhw=s64",
      "userId": "18151484264085085052"
     },
     "user_tz": -60
    },
    "id": "Uqyb8vZ3l0zk"
   },
   "outputs": [],
   "source": [
    "# Pour RNC\n",
    "from sklearn.model_selection import KFold\n",
    "from sklearn.cluster import KMeans\n",
    "from tensorflow.keras.datasets import mnist\n",
    "from tensorflow.keras.utils import to_categorical\n",
    "from tensorflow.keras.models import Sequential\n",
    "from tensorflow.keras.layers import Conv2D\n",
    "from tensorflow.keras.layers import MaxPooling2D\n",
    "from tensorflow.keras.layers import Dense\n",
    "from tensorflow.keras.layers import Flatten\n",
    "from tensorflow.keras.optimizers import SGD"
   ]
  },
  {
   "cell_type": "markdown",
   "metadata": {
    "id": "_nT_H3aPl0zm"
   },
   "source": [
    "# Lecture des fichiers de données à classifier\n",
    "Pour ce TP, nous allons lire les données à partir d'un fichier csv."
   ]
  },
  {
   "cell_type": "markdown",
   "metadata": {
    "id": "c-UeYc9GaCzZ"
   },
   "source": []
  },
  {
   "cell_type": "code",
   "execution_count": 3,
   "metadata": {
    "colab": {
     "base_uri": "https://localhost:8080/",
     "height": 363
    },
    "executionInfo": {
     "elapsed": 7,
     "status": "error",
     "timestamp": 1646692659670,
     "user": {
      "displayName": "Mounir Dekali",
      "photoUrl": "https://lh3.googleusercontent.com/a-/AOh14Gg8ysiB3LFZobpTpBaxvF4VcyOV4pcw95wF6Mdyhw=s64",
      "userId": "18151484264085085052"
     },
     "user_tz": -60
    },
    "id": "91b0p4qbl0zn",
    "outputId": "6122521a-5308-498d-e11e-17f66e01b07d"
   },
   "outputs": [],
   "source": [
    "# données\n",
    "X = np.genfromtxt('data.csv', delimiter=',', dtype=int)\n",
    "X.shape\n",
    "df = pd.read_csv(\"data.csv\",nrows=5000)"
   ]
  },
  {
   "cell_type": "code",
   "execution_count": 4,
   "metadata": {
    "colab": {
     "base_uri": "https://localhost:8080/"
    },
    "executionInfo": {
     "elapsed": 263,
     "status": "ok",
     "timestamp": 1646666818665,
     "user": {
      "displayName": "Mounir Dekali",
      "photoUrl": "https://lh3.googleusercontent.com/a-/AOh14Gg8ysiB3LFZobpTpBaxvF4VcyOV4pcw95wF6Mdyhw=s64",
      "userId": "18151484264085085052"
     },
     "user_tz": -60
    },
    "id": "j6KdcfC8l0zq",
    "outputId": "61a2ca31-b8d4-447d-e6f2-25d0ce9f8175"
   },
   "outputs": [
    {
     "data": {
      "text/plain": [
       "(5000,)"
      ]
     },
     "execution_count": 4,
     "metadata": {},
     "output_type": "execute_result"
    }
   ],
   "source": [
    "# étiquettes\n",
    "Y = np.genfromtxt('labels.csv', delimiter=',', dtype=int)\n",
    "Y.shape"
   ]
  },
  {
   "cell_type": "markdown",
   "metadata": {
    "id": "TY2OixHCl0zs"
   },
   "source": [
    "Afficher aléatoirement quelques données de notre base"
   ]
  },
  {
   "cell_type": "code",
   "execution_count": 5,
   "metadata": {
    "colab": {
     "base_uri": "https://localhost:8080/",
     "height": 118
    },
    "executionInfo": {
     "elapsed": 2304,
     "status": "ok",
     "timestamp": 1646666823844,
     "user": {
      "displayName": "Mounir Dekali",
      "photoUrl": "https://lh3.googleusercontent.com/a-/AOh14Gg8ysiB3LFZobpTpBaxvF4VcyOV4pcw95wF6Mdyhw=s64",
      "userId": "18151484264085085052"
     },
     "user_tz": -60
    },
    "id": "QMTnUdBql0zu",
    "outputId": "5b2dda71-20a2-4ab8-e707-a2e19c0f2fc8"
   },
   "outputs": [
    {
     "data": {
      "image/png": "[encoded data removed]",
      "text/plain": [
       "<Figure size 1500x800 with 13 Axes>"
      ]
     },
     "metadata": {},
     "output_type": "display_data"
    }
   ],
   "source": [
    "plt.figure(figsize=(15,8))\n",
    "for i in range(13): #note: each 500 lines, there is a new value\n",
    "    c = random.randint(X.shape[0]) #pick a random line from the dataset \n",
    "    a = X[c,:].reshape((20, 20)) #shape of one number in the image \n",
    "    a=np.transpose(a) # la transposé (rendre les ligne des colonne et vice versa)\n",
    "    plt.subplot(1,13,i+1)\n",
    "    plt.title('label '+ str(Y[c]))\n",
    "    plt.imshow(a,cmap='gray')"
   ]
  },
  {
   "cell_type": "markdown",
   "metadata": {
    "id": "UM03Af2dl0zv"
   },
   "source": [
    "Notons que l'étiquette 10 concerne le chiffre 0. L'étiquette a été utilisée ainsi afin de faciliter les calculs conséquents."
   ]
  },
  {
   "cell_type": "markdown",
   "metadata": {
    "id": "s80Yb_gul0zx"
   },
   "source": [
    "# Implémentation des métriques demandées\n",
    "Ici il faut écrire les fonctions, puis les appeler dans la suite du code"
   ]
  },
  {
   "cell_type": "markdown",
   "metadata": {
    "id": "-mRS4onu-52j"
   },
   "source": [
    "- Rappel :"
   ]
  },
  {
   "cell_type": "code",
   "execution_count": null,
   "metadata": {
    "colab": {
     "background_save": true
    },
    "id": "ReRWcXEYgeQe"
   },
   "outputs": [],
   "source": []
  },
  {
   "cell_type": "markdown",
   "metadata": {
    "id": "iy1P5tes-jM8"
   },
   "source": [
    "- Précision"
   ]
  },
  {
   "cell_type": "code",
   "execution_count": null,
   "metadata": {
    "colab": {
     "background_save": true
    },
    "id": "bnHz28P0Z36s"
   },
   "outputs": [],
   "source": []
  },
  {
   "cell_type": "markdown",
   "metadata": {
    "id": "2SUXNHkz-qd5"
   },
   "source": [
    "- Taux de FP"
   ]
  },
  {
   "cell_type": "code",
   "execution_count": null,
   "metadata": {
    "colab": {
     "background_save": true
    },
    "id": "r_o0qyv2l0z3"
   },
   "outputs": [],
   "source": []
  },
  {
   "cell_type": "markdown",
   "metadata": {
    "id": "7gx9qcAK-wnc"
   },
   "source": [
    "- Spécificité"
   ]
  },
  {
   "cell_type": "code",
   "execution_count": null,
   "metadata": {
    "colab": {
     "background_save": true
    },
    "id": "DEXYGvurl0z5"
   },
   "outputs": [],
   "source": []
  },
  {
   "cell_type": "markdown",
   "metadata": {
    "id": "ENA_XiFMl0z5"
   },
   "source": [
    "- Courbe ROC"
   ]
  },
  {
   "cell_type": "code",
   "execution_count": null,
   "metadata": {
    "colab": {
     "background_save": true
    },
    "id": "YFmaIDffl0z6"
   },
   "outputs": [],
   "source": []
  },
  {
   "cell_type": "markdown",
   "metadata": {
    "id": "IHfn7fgbl0z6"
   },
   "source": [
    "# Classification"
   ]
  },
  {
   "cell_type": "markdown",
   "metadata": {
    "id": "PGKbOn3el0z7"
   },
   "source": [
    "Définir d'abord la base d'entrainement Xt, Yt et la base de test Xtt, Ytt"
   ]
  },
  {
   "cell_type": "code",
   "execution_count": 17,
   "metadata": {
    "executionInfo": {
     "elapsed": 250,
     "status": "ok",
     "timestamp": 1646667242179,
     "user": {
      "displayName": "Mounir Dekali",
      "photoUrl": "https://lh3.googleusercontent.com/a-/AOh14Gg8ysiB3LFZobpTpBaxvF4VcyOV4pcw95wF6Mdyhw=s64",
      "userId": "18151484264085085052"
     },
     "user_tz": -60
    },
    "id": "mH2tdgEPl0z7"
   },
   "outputs": [],
   "source": [
    "\n",
    "scaler = StandardScaler()\n",
    "scaler.fit(X)\n",
    "scaled_features = scaler.transform(X)\n",
    "Xt, Xtt, Yt, Ytt = train_test_split(\n",
    "      scaled_features, Y, test_size = 0.30)"
   ]
  },
  {
   "cell_type": "markdown",
   "metadata": {
    "id": "ZEArHIKJl0z8"
   },
   "source": [
    "# Méthode 0: K- Plus Proches Voisins"
   ]
  },
  {
   "cell_type": "markdown",
   "metadata": {
    "id": "Uh7xVfJUl0z9"
   },
   "source": [
    "Ici il faudra implémenter la méthode, puis la tester et vérifier les métriques en variant le nombre K"
   ]
  },
  {
   "cell_type": "code",
   "execution_count": null,
   "metadata": {
    "id": "1lKZnt7zl0z9"
   },
   "outputs": [],
   "source": [
    "def predict(x_train, y , x, k):\n",
    "\n",
    "    #Array to store distances\n",
    "    point_dist = []\n",
    "      \n",
    "    #Loop through each training Data\n",
    "    for j in range(len(x_train)): \n",
    "        distances = eucledian(np.array(x_train[j,:]) , x) \n",
    "        print(np.array(x_train[j,:]))\n",
    "        #Calculating the distance\n",
    "        point_dist.append(distances) \n",
    "    point_dist = np.array(point_dist) \n",
    "      \n",
    "    #Sorting the array while preserving the index\n",
    "    #Keeping the first K datapoints\n",
    "    dist = np.argsort(point_dist)[:k] #argsort trej3lk indices\n",
    "    print(dist)\n",
    "    #print(point_dist[dist])\n",
    "      \n",
    "      \n",
    "    #Labels of the K datapoints from above\n",
    "    labels = y[dist]\n",
    "    print(\"labels\",labels)\n",
    "    \n",
    "    \n",
    "      \n",
    "    #Majority voting\n",
    "    lab = mode(labels) \n",
    "    \n",
    "    \n",
    "    lab = lab.mode[0]\n",
    "    \n",
    "    \n",
    "    \n",
    "    \n",
    "    return lab\n",
    "x = np.random.randint(1,20,400);\n",
    "y_pred = predict(Xt,Yt,x , 7)\n"
   ]
  },
  {
   "cell_type": "markdown",
   "metadata": {
    "id": "v9wv0lPTl0z-",
    "scrolled": false
   },
   "source": [
    "# Méthode 1: MVS\n",
    "Machine à Vecteurs de Support"
   ]
  },
  {
   "cell_type": "code",
   "execution_count": null,
   "metadata": {
    "colab": {
     "background_save": true
    },
    "id": "I87X5WBKl0z_"
   },
   "outputs": [],
   "source": [
    "#Créer le modèle\n",
    "model= svm.SVC(kernel='linear') \n",
    "# entrainement \n",
    "model.fit(Xt, Yt)\n",
    "# Prediction\n",
    "y_pred = model.predict(Xtt)"
   ]
  },
  {
   "cell_type": "code",
   "execution_count": null,
   "metadata": {
    "colab": {
     "background_save": true
    },
    "id": "qC8bd0uCl0z_"
   },
   "outputs": [],
   "source": [
    "# tester une image\n",
    "c= 3\n",
    "y_pred[c]\n",
    "a = Xtt[c,:].reshape((20, 20))\n",
    "a=np.transpose(a)\n",
    "plt.title('label '+ str(Ytt[c]))\n",
    "plt.imshow(a,cmap='gray')"
   ]
  },
  {
   "cell_type": "markdown",
   "metadata": {
    "id": "kF8Vvak9l00A"
   },
   "source": [
    "# Méthode 2: Arbres de décision\n"
   ]
  },
  {
   "cell_type": "code",
   "execution_count": null,
   "metadata": {
    "colab": {
     "background_save": true
    },
    "id": "SOGXAVhGl00B"
   },
   "outputs": [],
   "source": [
    "# Créer le modèle\n",
    "model = DecisionTreeClassifier()\n",
    "# Entrainer le modèle\n",
    "model = model.fit(Xt, Yt)\n",
    "# Prediction\n",
    "y_pred = model.predict(Xtt)"
   ]
  },
  {
   "cell_type": "code",
   "execution_count": null,
   "metadata": {
    "colab": {
     "background_save": true
    },
    "id": "jcndAmvbl00B"
   },
   "outputs": [],
   "source": [
    "# tester une image\n",
    "c= 3\n",
    "y_pred[c]\n",
    "a = Xtt[c,:].reshape((20, 20))\n",
    "a=np.transpose(a)\n",
    "plt.title('label '+ str(Ytt[c]))\n",
    "plt.imshow(a,cmap='gray')"
   ]
  },
  {
   "cell_type": "markdown",
   "metadata": {
    "id": "4rZNPN91l00C"
   },
   "source": [
    "# Méthode 3: RN \n",
    "Réseaux de neurones Perceptron"
   ]
  },
  {
   "cell_type": "code",
   "execution_count": null,
   "metadata": {
    "colab": {
     "background_save": true
    },
    "id": "ZqseGqptl00E"
   },
   "outputs": [],
   "source": [
    "model = MLPClassifier(solver='sgd', alpha=1e-5, hidden_layer_sizes=(25),max_iter=100000)\n",
    "Xt, Xtt, Yt, Ytt = train_test_split(X, Y, random_state=0, test_size=0.7)\n",
    "model.fit(Xt, Yt)"
   ]
  },
  {
   "cell_type": "code",
   "execution_count": null,
   "metadata": {
    "colab": {
     "background_save": true
    },
    "id": "4M7gZVVWl00F"
   },
   "outputs": [],
   "source": [
    "# Choisir un image de test \n",
    "c=0"
   ]
  },
  {
   "cell_type": "code",
   "execution_count": null,
   "metadata": {
    "colab": {
     "background_save": true
    },
    "id": "Xy0Rda31l00F",
    "scrolled": true
   },
   "outputs": [],
   "source": [
    "model.predict([Xtt[c,:]])"
   ]
  },
  {
   "cell_type": "code",
   "execution_count": null,
   "metadata": {
    "colab": {
     "background_save": true
    },
    "id": "QN122JmZl00G"
   },
   "outputs": [],
   "source": [
    "# pour ROC, il faudra les probabilités:\n",
    "model.predict_proba([Xtt[c,:]])"
   ]
  },
  {
   "cell_type": "markdown",
   "metadata": {
    "id": "5bnMb0U1l00H"
   },
   "source": [
    "Afficher l'image testée"
   ]
  },
  {
   "cell_type": "code",
   "execution_count": null,
   "metadata": {
    "colab": {
     "background_save": true
    },
    "id": "wX7-5roHl00H"
   },
   "outputs": [],
   "source": [
    "a = Xtt[c,:].reshape((20, 20))\n",
    "a=np.transpose(a)\n",
    "plt.title('label '+ str(Ytt[c]))\n",
    "plt.imshow(a,cmap='gray')"
   ]
  },
  {
   "cell_type": "markdown",
   "metadata": {
    "id": "lXTjUzQal00J"
   },
   "source": [
    "# Méthode 4: RNC\n",
    "Réseaux de Neurones Convolutifs"
   ]
  },
  {
   "cell_type": "code",
   "execution_count": null,
   "metadata": {
    "colab": {
     "background_save": true
    },
    "id": "Vd7Rxt2ul00J"
   },
   "outputs": [],
   "source": [
    "# reshape dataset to have a single channel\n",
    "Xt, Xtt, Yt, Ytt = train_test_split(X, Y, random_state=0, test_size=0.7)\n",
    "\n",
    "Xt_rnc = Xt.reshape((Xt.shape[0], 20, 20, 1))\n",
    "Xtt_rnc = Xtt.reshape((Xtt.shape[0], 20, 20, 1))"
   ]
  },
  {
   "cell_type": "code",
   "execution_count": null,
   "metadata": {
    "colab": {
     "background_save": true
    },
    "id": "CjUnQBMKl00K"
   },
   "outputs": [],
   "source": [
    "# Recoder le valeurs\n",
    "Yt_rnc = to_categorical(Yt)\n",
    "Ytt_rnc = to_categorical(Ytt)\n",
    "\n",
    "Xt_rncN = Xt_rnc.astype('float32')\n",
    "Xtt_rncN = Xtt_rnc.astype('float32')\n",
    "\n",
    "# normaliser\n",
    "Xt_rncN = Xt_rncN / 255.0\n",
    "Xtt_rncN = Xtt_rncN / 255.0\n",
    "\n",
    "# definir le modèle RNC\n",
    "model = Sequential()\n",
    "model.add(Conv2D(32, (3, 3), activation='relu', kernel_initializer='he_uniform', input_shape=(20, 20, 1)))\n",
    "model.add(MaxPooling2D((2, 2)))\n",
    "model.add(Flatten())\n",
    "model.add(Dense(100, activation='relu', kernel_initializer='he_uniform'))\n",
    "model.add(Dense(10, activation='softmax'))\n",
    "# compiler le modèle\n",
    "opt = SGD(learning_rate=0.01, momentum=0.9)\n",
    "model.compile(optimizer=opt, loss='categorical_crossentropy', metrics=['accuracy'])\n",
    "\n",
    "# evaluaer le modèle\n",
    "_, acc = model.evaluate(Xtt_rncN, Ytt_rnc, verbose=0)\n"
   ]
  },
  {
   "cell_type": "markdown",
   "metadata": {
    "id": "_txSaLVpl00L"
   },
   "source": [
    "# Appliquer les métriques implementées pour voir le résultat"
   ]
  },
  {
   "cell_type": "code",
   "execution_count": null,
   "metadata": {
    "colab": {
     "background_save": true
    },
    "id": "nkZxFuQKl00M"
   },
   "outputs": [],
   "source": []
  },
  {
   "cell_type": "markdown",
   "metadata": {
    "id": "pMWwF11xl00M"
   },
   "source": [
    "# Consignes"
   ]
  },
  {
   "cell_type": "markdown",
   "metadata": {
    "id": "dk7VPLr-l00N"
   },
   "source": [
    "Le travail est à remettre par groupe de 4 au maximum [1..4].\n",
    "\n",
    "Le délai est le mardi 14 Mars 2023 à 22h\n",
    "\n",
    "La partie RNC peut être laissée pour le prochain TP"
   ]
  },
  {
   "cell_type": "code",
   "execution_count": null,
   "metadata": {
    "colab": {
     "background_save": true
    },
    "id": "xtwtCIp1l00O"
   },
   "outputs": [],
   "source": [
    "# bonne chance   TP propose par Dr I.Setitra"
   ]
  }
 ],
 "metadata": {
  "colab": {
   "collapsed_sections": [],
   "name": "TP 1 Mesures de performance.ipynb",
   "provenance": []
  },
  "kernelspec": {
   "display_name": "Python 3 (ipykernel)",
   "language": "python",
   "name": "python3"
  },
  "language_info": {
   "codemirror_mode": {
    "name": "ipython",
    "version": 3
   },
   "file_extension": ".py",
   "mimetype": "text/x-python",
   "name": "python",
   "nbconvert_exporter": "python",
   "pygments_lexer": "ipython3",
   "version": "3.9.13"
  }
 },
 "nbformat": 4,
 "nbformat_minor": 1
}
